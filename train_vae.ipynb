{
 "cells": [
  {
   "cell_type": "code",
   "execution_count": 1,
   "metadata": {},
   "outputs": [
    {
     "name": "stderr",
     "output_type": "stream",
     "text": [
      "/usr/local/lib/python3.6/dist-packages/tensorboard/compat/tensorflow_stub/dtypes.py:541: FutureWarning: Passing (type, 1) or '1type' as a synonym of type is deprecated; in a future version of numpy, it will be understood as (type, (1,)) / '(1,)type'.\n",
      "  _np_qint8 = np.dtype([(\"qint8\", np.int8, 1)])\n",
      "/usr/local/lib/python3.6/dist-packages/tensorboard/compat/tensorflow_stub/dtypes.py:542: FutureWarning: Passing (type, 1) or '1type' as a synonym of type is deprecated; in a future version of numpy, it will be understood as (type, (1,)) / '(1,)type'.\n",
      "  _np_quint8 = np.dtype([(\"quint8\", np.uint8, 1)])\n",
      "/usr/local/lib/python3.6/dist-packages/tensorboard/compat/tensorflow_stub/dtypes.py:543: FutureWarning: Passing (type, 1) or '1type' as a synonym of type is deprecated; in a future version of numpy, it will be understood as (type, (1,)) / '(1,)type'.\n",
      "  _np_qint16 = np.dtype([(\"qint16\", np.int16, 1)])\n",
      "/usr/local/lib/python3.6/dist-packages/tensorboard/compat/tensorflow_stub/dtypes.py:544: FutureWarning: Passing (type, 1) or '1type' as a synonym of type is deprecated; in a future version of numpy, it will be understood as (type, (1,)) / '(1,)type'.\n",
      "  _np_quint16 = np.dtype([(\"quint16\", np.uint16, 1)])\n",
      "/usr/local/lib/python3.6/dist-packages/tensorboard/compat/tensorflow_stub/dtypes.py:545: FutureWarning: Passing (type, 1) or '1type' as a synonym of type is deprecated; in a future version of numpy, it will be understood as (type, (1,)) / '(1,)type'.\n",
      "  _np_qint32 = np.dtype([(\"qint32\", np.int32, 1)])\n",
      "/usr/local/lib/python3.6/dist-packages/tensorboard/compat/tensorflow_stub/dtypes.py:550: FutureWarning: Passing (type, 1) or '1type' as a synonym of type is deprecated; in a future version of numpy, it will be understood as (type, (1,)) / '(1,)type'.\n",
      "  np_resource = np.dtype([(\"resource\", np.ubyte, 1)])\n"
     ]
    }
   ],
   "source": [
    "import data, model.unet, model.autoencoder, loss, function\n",
    "from torch.utils.data import DataLoader\n",
    "import torch\n",
    "import matplotlib.pyplot as plt\n",
    "from PIL import Image\n",
    "import torchvision.transforms as transforms\n",
    "import numpy as np\n",
    "import torch.utils.tensorboard as tb\n",
    "import torchvision\n",
    "\n",
    "%load_ext autoreload\n",
    "%autoreload 2"
   ]
  },
  {
   "cell_type": "code",
   "execution_count": 2,
   "metadata": {},
   "outputs": [],
   "source": [
    "tb_writer = tb.SummaryWriter('log')"
   ]
  },
  {
   "cell_type": "code",
   "execution_count": 3,
   "metadata": {},
   "outputs": [],
   "source": [
    "DEBUG=True"
   ]
  },
  {
   "cell_type": "code",
   "execution_count": 4,
   "metadata": {},
   "outputs": [],
   "source": [
    "VAL_PORTION = 0.1\n",
    "ITERATIONS = 15002\n",
    "VAL_ITERATIONS = 5\n",
    "RESOLUTION = 64\n",
    "CHANNELS = 3\n",
    "STYLE_DIM = 256\n",
    "BATCH_SIZE = 8\n",
    "LOSS_TYPE = 'l1'\n",
    "\n",
    "CONTENT_LOSS_WEIGHTS = {\n",
    "    #'relu_1_1' : 1e-2,\n",
    "    #'relu_4_2' : 5e-3,\n",
    "    'relu_4_2' : 5e-1,\n",
    "}\n",
    "\n",
    "STYLE_LOSS_WEIGHTS = {\n",
    "    'relu_1_2' : 1e2,\n",
    "    'relu_2_2' : 1e2,\n",
    "    'relu_3_2' : 5e2,\n",
    "    'relu_4_2' : 1e1,\n",
    "    'relu_5_2' : 1e1,\n",
    "}\n",
    "KLD_LOSS_WEIGHT = 1e-8"
   ]
  },
  {
   "cell_type": "code",
   "execution_count": 5,
   "metadata": {},
   "outputs": [],
   "source": [
    "if DEBUG:\n",
    "    data_style = data.load_debug_dataset('../dataset/debug/style', resolution=RESOLUTION)\n",
    "    data_content = data.load_debug_dataset('../dataset/debug/content', resolution=RESOLUTION)\n",
    "else:\n",
    "    data_style = data.load_dataset('../dataset/style', resolution=RESOLUTION)\n",
    "    data_content = data.load_dataset('../dataset/content', resolution=RESOLUTION)"
   ]
  },
  {
   "cell_type": "code",
   "execution_count": 6,
   "metadata": {},
   "outputs": [],
   "source": [
    "data_content_train, data_content_val = torch.utils.data.random_split(data_content, [len(data_content) - int(VAL_PORTION * len(data_content)), int(VAL_PORTION * len(data_content))])\n",
    "data_style_train, data_style_val = torch.utils.data.random_split(data_style, [len(data_style) - int(VAL_PORTION * len(data_style)), int(VAL_PORTION * len(data_style))])\n",
    "data_loader_content_train = DataLoader(data_content_train, batch_size=BATCH_SIZE, shuffle=True, drop_last=True)\n",
    "data_loader_content_val = DataLoader(data_content_val, batch_size=BATCH_SIZE, shuffle=True, drop_last=True)\n",
    "data_loader_style_train = DataLoader(data_style_train, batch_size=BATCH_SIZE, shuffle=True, drop_last=True)\n",
    "data_loader_style_val = DataLoader(data_style_val, batch_size=BATCH_SIZE, shuffle=True, drop_last=True)\n",
    "data_loader_train = data.DatasetPairIterator(data_loader_content_train, data_loader_style_train)\n",
    "data_loader_val = data.DatasetPairIterator(data_loader_content_val, data_loader_style_val)"
   ]
  },
  {
   "cell_type": "code",
   "execution_count": 7,
   "metadata": {},
   "outputs": [],
   "source": [
    "CONTENT_DOWN_CONVOLUTIONS = 3\n",
    "STYLE_DOWN_CONVOLUTIONS = 5\n",
    "\n",
    "normalization = ['adain', 'adain', 'adain', 'adain', 'adain']\n",
    "unet = model.unet.UNetAutoencoder(3, STYLE_DIM, residual_downsampling=True, residual_adain=True, residual_upsampling=True, \n",
    "        down_normalization='in', up_normalization='adain', num_adain_convolutions=4, \n",
    "        num_downup_convolutions=CONTENT_DOWN_CONVOLUTIONS, output_activation='sigmoid')\n",
    "style_encoder = model.autoencoder.Encoder(2 * STYLE_DIM, num_down_convolutions=CONTENT_DOWN_CONVOLUTIONS)\n",
    "\n",
    "\n",
    "loss_net = loss.LossNet()\n",
    "_ = loss_net.eval()"
   ]
  },
  {
   "cell_type": "code",
   "execution_count": 8,
   "metadata": {},
   "outputs": [],
   "source": [
    "if torch.cuda.is_available(): \n",
    "    unet = unet.cuda()\n",
    "    style_encoder = style_encoder.cuda()\n",
    "    loss_net = loss_net.cuda()\n",
    "\n",
    "trainable_parameters = []\n",
    "for parameter in unet.parameters():\n",
    "    trainable_parameters.append(parameter)\n",
    "for parameter in style_encoder.parameters():\n",
    "    trainable_parameters.append(parameter)"
   ]
  },
  {
   "cell_type": "code",
   "execution_count": 9,
   "metadata": {},
   "outputs": [],
   "source": [
    "optimizer = torch.optim.Adam(trainable_parameters, lr=1e-4)\n",
    "lr_scheduler = torch.optim.lr_scheduler.ReduceLROnPlateau(optimizer, mode='min', patience=5, verbose=True, min_lr=1e-6)"
   ]
  },
  {
   "cell_type": "code",
   "execution_count": 10,
   "metadata": {},
   "outputs": [],
   "source": [
    "def forward(content_image, style_image):\n",
    "    \"\"\" Forward pass through the architecture.\n",
    "    \n",
    "    Parameters:\n",
    "    -----------\n",
    "    content_image : torch.Tensor, shape [batch_size, 3, H, W]\n",
    "        The content images.\n",
    "    style_image : torch.Tensor, shape [batch_size, 3, H, W]\n",
    "        The style images.\n",
    "    \n",
    "    Returns:\n",
    "    --------\n",
    "    stylized : torch.Tensor, shape [batch_size, 3, H, W]\n",
    "        The stylizations.\n",
    "    style_encoding : torch.Tensor, shape [batch_size, STYLE_DIM]\n",
    "        Style encodings.\n",
    "    style_encoding_mean : torch.Tensor, shape [batch_size, STYLE_DIM]\n",
    "        Means for the style encodings.\n",
    "    style_encoding_logvar : torch.Tensor, shape [batch_size, STYLE_DIM]\n",
    "        Logarithm of the variances of the style encodings.\n",
    "    \"\"\"\n",
    "    style_stats = style_encoder(style_image)\n",
    "    style_mean = style_stats[..., : STYLE_DIM]\n",
    "    style_logvar = style_stats[..., STYLE_DIM : ]\n",
    "    style_sample = function.sample_normal(style_mean, style_logvar)\n",
    "    stylized = unet(content_image, style_sample)\n",
    "    return stylized, style_sample, style_mean, style_logvar"
   ]
  },
  {
   "cell_type": "code",
   "execution_count": 11,
   "metadata": {
    "scrolled": false
   },
   "outputs": [
    {
     "name": "stdout",
     "output_type": "stream",
     "text": [
      "    0 / 15002: loss : 11.8531 -- perceptual loss : 1.1161 -- style loss : 10.7370 -- kld loss : 3445.7986\n",
      "Validation...\n",
      "    5 / 5: loss : 13.6645 -- perceptual loss : 1.1911 -- style loss : 12.4734 -- kld loss : 3742.3706\r"
     ]
    },
    {
     "data": {
      "image/png": "[encoded data removed]",
      "text/plain": [
       "<Figure size 432x288 with 10 Axes>"
      ]
     },
     "metadata": {
      "needs_background": "light"
     },
     "output_type": "display_data"
    },
    {
     "name": "stdout",
     "output_type": "stream",
     "text": [
      "\n",
      "Average val loss: 12.89523983001709\n",
      "Training with lr 0.0001...\n",
      "  100 / 15002: loss : 8.8269 -- perceptual loss : 1.0629 -- style loss : 7.7640 -- kld loss : 3522.077601\n",
      "Validation...\n",
      "    5 / 5: loss : 10.3799 -- perceptual loss : 1.0562 -- style loss : 9.3237 -- kld loss : 3568.1304\r"
     ]
    },
    {
     "data": {
      "image/png": "[encoded data removed]",
      "text/plain": [
       "<Figure size 432x288 with 10 Axes>"
      ]
     },
     "metadata": {
      "needs_background": "light"
     },
     "output_type": "display_data"
    },
    {
     "name": "stdout",
     "output_type": "stream",
     "text": [
      "\n",
      "Average val loss: 9.983293533325195\n",
      "Training with lr 0.0001...\n",
      "  200 / 15002: loss : 8.3653 -- perceptual loss : 0.9905 -- style loss : 7.3748 -- kld loss : 3788.919905\n",
      "Validation...\n",
      "    5 / 5: loss : 9.4632 -- perceptual loss : 1.0658 -- style loss : 8.3973 -- kld loss : 3921.2773\r"
     ]
    },
    {
     "data": {
      "image/png": "[encoded data removed]",
      "text/plain": [
       "<Figure size 432x288 with 10 Axes>"
      ]
     },
     "metadata": {
      "needs_background": "light"
     },
     "output_type": "display_data"
    },
    {
     "name": "stdout",
     "output_type": "stream",
     "text": [
      "\n",
      "Average val loss: 9.399999618530273\n",
      "Training with lr 0.0001...\n",
      "  300 / 15002: loss : 7.0807 -- perceptual loss : 1.0095 -- style loss : 6.0712 -- kld loss : 4114.13775\n",
      "Validation...\n",
      "    5 / 5: loss : 7.6582 -- perceptual loss : 1.0047 -- style loss : 6.6535 -- kld loss : 3838.0830\r"
     ]
    },
    {
     "data": {
      "image/png": "[encoded data removed]",
      "text/plain": [
       "<Figure size 432x288 with 10 Axes>"
      ]
     },
     "metadata": {
      "needs_background": "light"
     },
     "output_type": "display_data"
    },
    {
     "name": "stdout",
     "output_type": "stream",
     "text": [
      "\n",
      "Average val loss: 8.410741806030273\n",
      "Training with lr 0.0001...\n",
      "  400 / 15002: loss : 6.9695 -- perceptual loss : 1.0456 -- style loss : 5.9238 -- kld loss : 4422.43417\n",
      "Validation...\n",
      "    5 / 5: loss : 8.5894 -- perceptual loss : 1.0565 -- style loss : 7.5328 -- kld loss : 3777.9822\r"
     ]
    },
    {
     "data": {
      "image/png": "[encoded data removed]",
      "text/plain": [
       "<Figure size 432x288 with 10 Axes>"
      ]
     },
     "metadata": {
      "needs_background": "light"
     },
     "output_type": "display_data"
    },
    {
     "name": "stdout",
     "output_type": "stream",
     "text": [
      "\n",
      "Average val loss: 8.483555793762207\n",
      "Training with lr 0.0001...\n",
      "  419 / 15002: loss : 6.1741 -- perceptual loss : 1.0438 -- style loss : 5.1303 -- kld loss : 4381.1904\r"
     ]
    },
    {
     "ename": "KeyboardInterrupt",
     "evalue": "",
     "output_type": "error",
     "traceback": [
      "\u001b[0;31m---------------------------------------------------------------------------\u001b[0m",
      "\u001b[0;31mKeyboardInterrupt\u001b[0m                         Traceback (most recent call last)",
      "\u001b[0;32m<ipython-input-11-af9631969321>\u001b[0m in \u001b[0;36m<module>\u001b[0;34m\u001b[0m\n\u001b[1;32m     15\u001b[0m     \u001b[0mfeatures_content\u001b[0m \u001b[0;34m=\u001b[0m \u001b[0mloss_net\u001b[0m\u001b[0;34m(\u001b[0m\u001b[0mcontent_image\u001b[0m\u001b[0;34m)\u001b[0m\u001b[0;34m\u001b[0m\u001b[0;34m\u001b[0m\u001b[0m\n\u001b[1;32m     16\u001b[0m     \u001b[0mfeatures_style\u001b[0m \u001b[0;34m=\u001b[0m \u001b[0mloss_net\u001b[0m\u001b[0;34m(\u001b[0m\u001b[0mstyle_image\u001b[0m\u001b[0;34m)\u001b[0m\u001b[0;34m\u001b[0m\u001b[0;34m\u001b[0m\u001b[0m\n\u001b[0;32m---> 17\u001b[0;31m     \u001b[0mfeatures_stylized\u001b[0m \u001b[0;34m=\u001b[0m \u001b[0mloss_net\u001b[0m\u001b[0;34m(\u001b[0m\u001b[0mstylized\u001b[0m\u001b[0;34m)\u001b[0m\u001b[0;34m\u001b[0m\u001b[0;34m\u001b[0m\u001b[0m\n\u001b[0m\u001b[1;32m     18\u001b[0m \u001b[0;34m\u001b[0m\u001b[0m\n\u001b[1;32m     19\u001b[0m     \u001b[0mperceptual_loss\u001b[0m \u001b[0;34m=\u001b[0m \u001b[0mloss\u001b[0m\u001b[0;34m.\u001b[0m\u001b[0mperceptual_loss\u001b[0m\u001b[0;34m(\u001b[0m\u001b[0mfeatures_content\u001b[0m\u001b[0;34m,\u001b[0m \u001b[0mfeatures_stylized\u001b[0m\u001b[0;34m,\u001b[0m \u001b[0mCONTENT_LOSS_WEIGHTS\u001b[0m\u001b[0;34m,\u001b[0m \u001b[0mloss\u001b[0m\u001b[0;34m=\u001b[0m\u001b[0mLOSS_TYPE\u001b[0m\u001b[0;34m)\u001b[0m\u001b[0;34m\u001b[0m\u001b[0;34m\u001b[0m\u001b[0m\n",
      "\u001b[0;32m/usr/local/lib/python3.6/dist-packages/torch/nn/modules/module.py\u001b[0m in \u001b[0;36m__call__\u001b[0;34m(self, *input, **kwargs)\u001b[0m\n\u001b[1;32m    539\u001b[0m             \u001b[0mresult\u001b[0m \u001b[0;34m=\u001b[0m \u001b[0mself\u001b[0m\u001b[0;34m.\u001b[0m\u001b[0m_slow_forward\u001b[0m\u001b[0;34m(\u001b[0m\u001b[0;34m*\u001b[0m\u001b[0minput\u001b[0m\u001b[0;34m,\u001b[0m \u001b[0;34m**\u001b[0m\u001b[0mkwargs\u001b[0m\u001b[0;34m)\u001b[0m\u001b[0;34m\u001b[0m\u001b[0;34m\u001b[0m\u001b[0m\n\u001b[1;32m    540\u001b[0m         \u001b[0;32melse\u001b[0m\u001b[0;34m:\u001b[0m\u001b[0;34m\u001b[0m\u001b[0;34m\u001b[0m\u001b[0m\n\u001b[0;32m--> 541\u001b[0;31m             \u001b[0mresult\u001b[0m \u001b[0;34m=\u001b[0m \u001b[0mself\u001b[0m\u001b[0;34m.\u001b[0m\u001b[0mforward\u001b[0m\u001b[0;34m(\u001b[0m\u001b[0;34m*\u001b[0m\u001b[0minput\u001b[0m\u001b[0;34m,\u001b[0m \u001b[0;34m**\u001b[0m\u001b[0mkwargs\u001b[0m\u001b[0;34m)\u001b[0m\u001b[0;34m\u001b[0m\u001b[0;34m\u001b[0m\u001b[0m\n\u001b[0m\u001b[1;32m    542\u001b[0m         \u001b[0;32mfor\u001b[0m \u001b[0mhook\u001b[0m \u001b[0;32min\u001b[0m \u001b[0mself\u001b[0m\u001b[0;34m.\u001b[0m\u001b[0m_forward_hooks\u001b[0m\u001b[0;34m.\u001b[0m\u001b[0mvalues\u001b[0m\u001b[0;34m(\u001b[0m\u001b[0;34m)\u001b[0m\u001b[0;34m:\u001b[0m\u001b[0;34m\u001b[0m\u001b[0;34m\u001b[0m\u001b[0m\n\u001b[1;32m    543\u001b[0m             \u001b[0mhook_result\u001b[0m \u001b[0;34m=\u001b[0m \u001b[0mhook\u001b[0m\u001b[0;34m(\u001b[0m\u001b[0mself\u001b[0m\u001b[0;34m,\u001b[0m \u001b[0minput\u001b[0m\u001b[0;34m,\u001b[0m \u001b[0mresult\u001b[0m\u001b[0;34m)\u001b[0m\u001b[0;34m\u001b[0m\u001b[0;34m\u001b[0m\u001b[0m\n",
      "\u001b[0;32m/media/dominik/d/uni/adl4cv/VariationalStyleTransfer/loss.py\u001b[0m in \u001b[0;36mforward\u001b[0;34m(self, x)\u001b[0m\n\u001b[1;32m     63\u001b[0m         \"\"\"\n\u001b[1;32m     64\u001b[0m         \u001b[0;32mif\u001b[0m \u001b[0mself\u001b[0m\u001b[0;34m.\u001b[0m\u001b[0mnormalize\u001b[0m\u001b[0;34m:\u001b[0m\u001b[0;34m\u001b[0m\u001b[0;34m\u001b[0m\u001b[0m\n\u001b[0;32m---> 65\u001b[0;31m             \u001b[0mmu\u001b[0m \u001b[0;34m=\u001b[0m \u001b[0mtorch\u001b[0m\u001b[0;34m.\u001b[0m\u001b[0mTensor\u001b[0m\u001b[0;34m(\u001b[0m\u001b[0mvgg_normalization_mean\u001b[0m\u001b[0;34m)\u001b[0m\u001b[0;34m.\u001b[0m\u001b[0mto\u001b[0m\u001b[0;34m(\u001b[0m\u001b[0mx\u001b[0m\u001b[0;34m.\u001b[0m\u001b[0mdevice\u001b[0m\u001b[0;34m)\u001b[0m\u001b[0;34m.\u001b[0m\u001b[0mreshape\u001b[0m\u001b[0;34m(\u001b[0m\u001b[0;36m1\u001b[0m\u001b[0;34m,\u001b[0m \u001b[0;36m3\u001b[0m\u001b[0;34m,\u001b[0m \u001b[0;36m1\u001b[0m\u001b[0;34m,\u001b[0m \u001b[0;36m1\u001b[0m\u001b[0;34m)\u001b[0m\u001b[0;34m\u001b[0m\u001b[0;34m\u001b[0m\u001b[0m\n\u001b[0m\u001b[1;32m     66\u001b[0m             \u001b[0msigma\u001b[0m \u001b[0;34m=\u001b[0m \u001b[0mtorch\u001b[0m\u001b[0;34m.\u001b[0m\u001b[0mTensor\u001b[0m\u001b[0;34m(\u001b[0m\u001b[0mvgg_normalization_std\u001b[0m\u001b[0;34m)\u001b[0m\u001b[0;34m.\u001b[0m\u001b[0mto\u001b[0m\u001b[0;34m(\u001b[0m\u001b[0mx\u001b[0m\u001b[0;34m.\u001b[0m\u001b[0mdevice\u001b[0m\u001b[0;34m)\u001b[0m\u001b[0;34m.\u001b[0m\u001b[0mreshape\u001b[0m\u001b[0;34m(\u001b[0m\u001b[0;36m1\u001b[0m\u001b[0;34m,\u001b[0m \u001b[0;36m3\u001b[0m\u001b[0;34m,\u001b[0m \u001b[0;36m1\u001b[0m\u001b[0;34m,\u001b[0m \u001b[0;36m1\u001b[0m\u001b[0;34m)\u001b[0m\u001b[0;34m\u001b[0m\u001b[0;34m\u001b[0m\u001b[0m\n\u001b[1;32m     67\u001b[0m             \u001b[0mx\u001b[0m \u001b[0;34m=\u001b[0m \u001b[0;34m(\u001b[0m\u001b[0mx\u001b[0m \u001b[0;34m-\u001b[0m \u001b[0mmu\u001b[0m\u001b[0;34m)\u001b[0m \u001b[0;34m/\u001b[0m \u001b[0msigma\u001b[0m\u001b[0;34m\u001b[0m\u001b[0;34m\u001b[0m\u001b[0m\n",
      "\u001b[0;31mKeyboardInterrupt\u001b[0m: "
     ]
    }
   ],
   "source": [
    "iteration = 0\n",
    "val_step = 0\n",
    "for (content_image, content_path), (style_image, style_path) in data_loader_train:\n",
    "    if iteration >= ITERATIONS: \n",
    "        break\n",
    "    if torch.cuda.is_available():\n",
    "        content_image = content_image.to('cuda')\n",
    "        style_image = style_image.to('cuda')\n",
    "    \n",
    "    unet.train(), style_encoder.train()\n",
    "    optimizer.zero_grad()\n",
    "    \n",
    "    stylized, style_encoding, style_mean, style_logvar = forward(content_image, style_image)\n",
    "    \n",
    "    features_content = loss_net(content_image)\n",
    "    features_style = loss_net(style_image)\n",
    "    features_stylized = loss_net(stylized)\n",
    "    \n",
    "    perceptual_loss = loss.perceptual_loss(features_content, features_stylized, CONTENT_LOSS_WEIGHTS, loss=LOSS_TYPE)\n",
    "    style_loss = loss.style_loss(features_style, features_stylized, STYLE_LOSS_WEIGHTS, loss=LOSS_TYPE)\n",
    "    kld_loss = loss.kld_loss(style_mean, style_logvar)\n",
    "    total_loss = perceptual_loss + style_loss + KLD_LOSS_WEIGHT * kld_loss\n",
    "    total_loss.backward()\n",
    "    optimizer.step()\n",
    "    \n",
    "    tb_writer.add_scalar('train loss', total_loss.item(), iteration)\n",
    "    tb_writer.add_scalar('train perceptual loss', perceptual_loss.item(), iteration)\n",
    "    tb_writer.add_scalar('train kld loss', kld_loss.item(), iteration)\n",
    "    tb_writer.add_scalar('train style loss', style_loss.item(), iteration)\n",
    "    print(f'\\r{iteration:5d} / {ITERATIONS}: loss : {total_loss.item():.4f} -- perceptual loss : {perceptual_loss.item():.4f} -- style loss : {style_loss.item():.4f} -- kld loss : {kld_loss.item():.4f}', end='\\r')\n",
    "    \n",
    "    if iteration % 100 == 0:\n",
    "        #tb_writer.add_images('train images', torch.from_numpy(np.concatenate([\n",
    "        #    data.vgg_normalization_undo(img.detach().cpu().numpy()) for img in [content_image, style_image, stylized]\n",
    "        #])), iteration)\n",
    "        # Validate\n",
    "        print('\\nValidation...')\n",
    "        total_val_loss = 0.0\n",
    "        with torch.no_grad():\n",
    "            val_iteration = 0\n",
    "            unet.eval(), style_encoder.eval()\n",
    "            fig = plt.figure()\n",
    "            for (content_image, content_path), (style_image, style_path) in data_loader_val:\n",
    "                \n",
    "                if val_iteration >= VAL_ITERATIONS:\n",
    "                    break\n",
    "                    \n",
    "                if torch.cuda.is_available():\n",
    "                    content_image = content_image.to('cuda')\n",
    "                    style_image = style_image.to('cuda')\n",
    "                \n",
    "                stylized, style_encoding, style_mean, style_logvar = forward(content_image, style_image)\n",
    "                \n",
    "                torch.set_printoptions(profile=\"full\")\n",
    "                #print(content_encoding)\n",
    "                torch.set_printoptions(profile=\"default\")\n",
    "    \n",
    "                features_content = loss_net(content_image)\n",
    "                features_style = loss_net(style_image)\n",
    "                features_stylized = loss_net(stylized)\n",
    "\n",
    "                perceptual_loss = loss.perceptual_loss(features_content, features_stylized, CONTENT_LOSS_WEIGHTS, loss=LOSS_TYPE)\n",
    "                style_loss = loss.style_loss(features_style, features_stylized, STYLE_LOSS_WEIGHTS, loss=LOSS_TYPE)\n",
    "                kld_loss = loss.kld_loss(style_mean, style_logvar)\n",
    "                total_loss = perceptual_loss + style_loss + KLD_LOSS_WEIGHT * kld_loss\n",
    "                total_val_loss += total_loss\n",
    "                fig.add_subplot(2, VAL_ITERATIONS, val_iteration + 1)\n",
    "                plt.hist(style_encoding.detach().cpu().numpy().reshape(-1), density=True)\n",
    "                fig.add_subplot(2, VAL_ITERATIONS, VAL_ITERATIONS + val_iteration + 1)\n",
    "                plt.hist(style_encoding.detach().cpu().numpy().std(0), density=True)\n",
    "                \n",
    "                tb_writer.add_scalar('validation loss', total_loss.item(), val_step)\n",
    "                tb_writer.add_scalar('validation perceptual loss', perceptual_loss.item(), val_step)\n",
    "                tb_writer.add_scalar('validation style loss', style_loss.item(), val_step)\n",
    "                tb_writer.add_scalar('validation kld loss', kld_loss.item(), val_step)\n",
    "                tb_writer.add_images('validation images', torch.from_numpy(np.concatenate([\n",
    "                    img.detach().cpu().numpy() for img in [content_image, style_image, stylized]\n",
    "                ])), val_step)\n",
    "                val_iteration += 1\n",
    "                val_step += 1\n",
    "                print(f'\\r{val_iteration:5d} / {VAL_ITERATIONS}: loss : {total_loss.item():.4f} -- perceptual loss : {perceptual_loss.item():.4f} -- style loss : {style_loss.item():.4f} -- kld loss : {kld_loss.item():.4f}', end='\\r')\n",
    "            \n",
    "            plt.show()\n",
    "            total_val_loss /= VAL_ITERATIONS\n",
    "            print(f'\\nAverage val loss: {total_val_loss}')\n",
    "            lr_scheduler.step(total_val_loss)\n",
    "            print(f'Training with lr {optimizer.param_groups[0][\"lr\"]}...')\n",
    "            \n",
    "            \n",
    "    iteration += 1\n",
    "    \n",
    "    "
   ]
  }
 ],
 "metadata": {
  "kernelspec": {
   "display_name": "Python 3",
   "language": "python",
   "name": "python3"
  },
  "language_info": {
   "codemirror_mode": {
    "name": "ipython",
    "version": 3
   },
   "file_extension": ".py",
   "mimetype": "text/x-python",
   "name": "python",
   "nbconvert_exporter": "python",
   "pygments_lexer": "ipython3",
   "version": "3.6.8"
  }
 },
 "nbformat": 4,
 "nbformat_minor": 2
}
