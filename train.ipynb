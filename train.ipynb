{
 "cells": [
  {
   "cell_type": "code",
   "execution_count": 1,
   "metadata": {},
   "outputs": [],
   "source": [
    "import data, model.unet, model.autoencoder, loss, function\n",
    "from torch.utils.data import DataLoader\n",
    "import torch\n",
    "import matplotlib.pyplot as plt\n",
    "from PIL import Image\n",
    "import torchvision.transforms as transforms\n",
    "import numpy as np\n",
    "import torch.utils.tensorboard as tb\n",
    "import torchvision\n",
    "import pickle\n",
    "import datetime\n",
    "import os\n",
    "\n",
    "%load_ext autoreload\n",
    "%autoreload 2"
   ]
  },
  {
   "cell_type": "code",
   "execution_count": 2,
   "metadata": {},
   "outputs": [],
   "source": [
    "date = datetime.datetime.now()\n",
    "timestamp = date.strftime(\"%d-%b-%Y_%H.%M.%S\")\n",
    "os.makedirs(f\"log/{timestamp}\")\n",
    "tb_writer = tb.SummaryWriter(f\"log/{timestamp}\")"
   ]
  },
  {
   "cell_type": "code",
   "execution_count": 3,
   "metadata": {},
   "outputs": [],
   "source": [
    "VAL_PORTION = 0.1\n",
    "ITERATIONS = 15002\n",
    "VAL_ITERATIONS = 5\n",
    "RESOLUTION = 96\n",
    "CHANNELS = 3\n",
    "STYLE_DIM = 1024 # 512\n",
    "#CONTENT_DIM = 512\n",
    "BATCH_SIZE = 8\n",
    "LOSS_TYPE = 'l2'\n",
    "#CONTENT_LOSS_WEIGHTS = {'input' : 0.0, 'relu3' : 0.0, 'relu4' : 1e2, 'relu5' : 0.0}\n",
    "#STYLE_LOSS_WEIGHTS = {'input' : 0.0, 'relu1' : 1e2, 'relu2' : 1e2, 'relu3' : 1e2, 'relu4' : 1e2, 'relu5' : 1e2}\n",
    "\n",
    "CONTENT_LOSS_WEIGHTS = {\n",
    "    #'relu_1_1' : 1e-2,\n",
    "    #'relu_4_2' : 5e-3,\n",
    "    'relu_4_2' : 1e-2,\n",
    "    #'relu_4_2' : 1e0,\n",
    "}\n",
    "\n",
    "STYLE_LOSS_WEIGHTS = {\n",
    "    'relu_1_1' : 1e3,\n",
    "    'relu_2_1' : 3e3,\n",
    "    'relu_3_1' : 9e3,\n",
    "    'relu_4_1' : 5e3,\n",
    "    'relu_5_1' : 1e3,\n",
    "}"
   ]
  },
  {
   "cell_type": "markdown",
   "metadata": {},
   "source": [
    "data_style = data.load_debug_dataset('../dataset/debug/style', resolution=RESOLUTION)\n",
    "data_content = data.load_debug_dataset('../dataset/debug/content', resolution=RESOLUTION)"
   ]
  },
  {
   "cell_type": "code",
   "execution_count": 4,
   "metadata": {},
   "outputs": [],
   "source": [
    "bad_dirs = [\n",
    "    \"Baroque\",\n",
    "    \"Contemporary_Realism\",\n",
    "    \"Early_Renaissance\",\n",
    "    \"High_Renaissance\",\n",
    "    \"Mannerism_Late_Renaissance\",\n",
    "    \"New_Realism\",\n",
    "    \"Northern_Renaissance\",\n",
    "    \"Realism\",\n",
    "    \"Rococo\",\n",
    "    \"Impressionism\",\n",
    "    \"Minimalism\",\n",
    "    \"Pointillism\",\n",
    "    \"Pop_Art\",\n",
    "    \"Romanticism\",\n",
    "    \"Symbolism\"\n",
    "]\n",
    "\n",
    "paths = data.list_images(\"../dataset/style\")\n",
    "filtered_paths = data.filter_images(paths, bad_dirs, \"style_images_no_face.pkl\", \"../dataset/style/wikiart\")\n",
    "#print(filtered_paths)\n",
    "\n",
    "TRAINING_PORTION_STYLE=1000 # 10000\n",
    "data_style = data.load_dataset_from_list(filtered_paths, resolution=RESOLUTION)\n",
    "data_style, _ = torch.utils.data.random_split(data_style, [TRAINING_PORTION_STYLE, len(data_style) - TRAINING_PORTION_STYLE])\n",
    "data_style_train, data_style_val = torch.utils.data.random_split(data_style, [len(data_style) - int(VAL_PORTION * len(data_style)), int(VAL_PORTION * len(data_style))])\n",
    "data_loader_style_train = DataLoader(data_style_train, batch_size=BATCH_SIZE, shuffle=True, drop_last=True)\n",
    "data_loader_style_val = DataLoader(data_style_val, batch_size=BATCH_SIZE, shuffle=True, drop_last=True)\n",
    "\n",
    "TRAINING_PORTION=1000\n",
    "data_content = data.load_debug_dataset('../dataset/content', resolution=RESOLUTION)\n",
    "data_content, _ = torch.utils.data.random_split(data_content, [TRAINING_PORTION, len(data_content) - TRAINING_PORTION])\n",
    "data_content_train, data_content_val = torch.utils.data.random_split(data_content, [len(data_content) - int(VAL_PORTION * len(data_content)), int(VAL_PORTION * len(data_content))])\n",
    "data_loader_content_train = DataLoader(data_content_train, batch_size=BATCH_SIZE, shuffle=True, drop_last=True)\n",
    "\n",
    "data_content_val = data.load_debug_dataset('../dataset/debug/content', resolution=RESOLUTION)\n",
    "data_loader_content_val = DataLoader(data_content_val, batch_size=BATCH_SIZE, shuffle=True, drop_last=True)\n",
    "\n",
    "data_loader_train = data.DatasetPairIterator(data_loader_content_train, data_loader_style_train)\n",
    "data_loader_val = data.DatasetPairIterator(data_loader_content_val, data_loader_style_val)\n",
    "\n",
    "# NO REAL VALIDATION, USES TRAINING STYLE DATA\n",
    "#data_loader_val = data.DatasetPairIterator(data_loader_content_val, data_loader_style_train)"
   ]
  },
  {
   "cell_type": "code",
   "execution_count": 5,
   "metadata": {},
   "outputs": [],
   "source": [
    "DOWNUP_CONVOLUTIONS = 4 #3\n",
    "ADAIN_CONVOLUTIONS = 5 #3\n",
    "STYLE_DOWN_CONVOLUTIONS = 4 #3\n",
    "NUM_LAYERS_NO_CONNECTION = 0\n",
    "\n",
    "#normalization = ['adain', 'adain', None, None, None]\n",
    "unet = model.unet.UNetAutoencoder(3, STYLE_DIM, residual_downsampling=True, residual_adain=True, residual_upsampling=True, \n",
    "        down_normalization='in', up_normalization='adain', num_adain_convolutions=ADAIN_CONVOLUTIONS, \n",
    "        num_downup_convolutions=DOWNUP_CONVOLUTIONS, num_downup_without_connections=NUM_LAYERS_NO_CONNECTION, output_activation='sigmoid')\n",
    "style_encoder = model.autoencoder.Encoder(STYLE_DIM, num_down_convolutions=STYLE_DOWN_CONVOLUTIONS)\n",
    "\n",
    "\n",
    "loss_net = loss.LossNet()\n",
    "_ = loss_net.eval()"
   ]
  },
  {
   "cell_type": "code",
   "execution_count": 6,
   "metadata": {},
   "outputs": [],
   "source": [
    "if torch.cuda.is_available(): \n",
    "    unet = unet.cuda()\n",
    "    style_encoder = style_encoder.cuda()\n",
    "    loss_net = loss_net.cuda()\n",
    "\n",
    "trainable_parameters = []\n",
    "for parameter in unet.parameters():\n",
    "    trainable_parameters.append(parameter)\n",
    "for parameter in style_encoder.parameters():\n",
    "    trainable_parameters.append(parameter)"
   ]
  },
  {
   "cell_type": "code",
   "execution_count": 7,
   "metadata": {},
   "outputs": [],
   "source": [
    "optimizer = torch.optim.Adam(trainable_parameters, lr=1e-4)\n",
    "lr_scheduler = torch.optim.lr_scheduler.ReduceLROnPlateau(optimizer, mode='min', patience=5, verbose=True, min_lr=1e-6)"
   ]
  },
  {
   "cell_type": "code",
   "execution_count": 8,
   "metadata": {
    "scrolled": true
   },
   "outputs": [
    {
     "name": "stdout",
     "output_type": "stream",
     "text": [
      "    0 / 15002: loss : 7.2660 -- perceptual loss : 0.1843 -- style loss : 7.0816\n",
      "Validation...\n",
      "    5 / 5: loss : 10.8594 -- perceptual loss : 0.1885 -- style loss : 10.6709\r"
     ]
    },
    {
     "data": {
      "image/png": "[encoded data removed]",
      "text/plain": [
       "<Figure size 432x288 with 10 Axes>"
      ]
     },
     "metadata": {
      "needs_background": "light"
     },
     "output_type": "display_data"
    },
    {
     "name": "stdout",
     "output_type": "stream",
     "text": [
      "\n",
      "Average val loss: 11.480182647705078\n",
      "Training with lr 0.0001...\n",
      "  100 / 15002: loss : 7.4452 -- perceptual loss : 0.2112 -- style loss : 7.234051\n",
      "Validation...\n",
      "    5 / 5: loss : 4.0518 -- perceptual loss : 0.1711 -- style loss : 3.8807\r"
     ]
    },
    {
     "data": {
      "image/png": "[encoded data removed]",
      "text/plain": [
       "<Figure size 432x288 with 10 Axes>"
      ]
     },
     "metadata": {
      "needs_background": "light"
     },
     "output_type": "display_data"
    },
    {
     "name": "stdout",
     "output_type": "stream",
     "text": [
      "\n",
      "Average val loss: 4.152923583984375\n",
      "Training with lr 0.0001...\n",
      "  200 / 15002: loss : 3.1565 -- perceptual loss : 0.1937 -- style loss : 2.962899\n",
      "Validation...\n",
      "    5 / 5: loss : 3.7911 -- perceptual loss : 0.1833 -- style loss : 3.6078\r"
     ]
    },
    {
     "data": {
      "image/png": "[encoded data removed]",
      "text/plain": [
       "<Figure size 432x288 with 10 Axes>"
      ]
     },
     "metadata": {
      "needs_background": "light"
     },
     "output_type": "display_data"
    },
    {
     "name": "stdout",
     "output_type": "stream",
     "text": [
      "\n",
      "Average val loss: 5.926628112792969\n",
      "Training with lr 0.0001...\n",
      "  300 / 15002: loss : 2.7766 -- perceptual loss : 0.2244 -- style loss : 2.552286\n",
      "Validation...\n",
      "    5 / 5: loss : 2.6653 -- perceptual loss : 0.1961 -- style loss : 2.469286\r"
     ]
    },
    {
     "data": {
      "image/png": "[encoded data removed]",
      "text/plain": [
       "<Figure size 432x288 with 10 Axes>"
      ]
     },
     "metadata": {
      "needs_background": "light"
     },
     "output_type": "display_data"
    },
    {
     "name": "stdout",
     "output_type": "stream",
     "text": [
      "\n",
      "Average val loss: 5.032403945922852\n",
      "Training with lr 0.0001...\n",
      "  400 / 15002: loss : 3.3308 -- perceptual loss : 0.2677 -- style loss : 3.063105\n",
      "Validation...\n",
      "    5 / 5: loss : 3.1444 -- perceptual loss : 0.1928 -- style loss : 2.951612\r"
     ]
    },
    {
     "data": {
      "image/png": "[encoded data removed]",
      "text/plain": [
       "<Figure size 432x288 with 10 Axes>"
      ]
     },
     "metadata": {
      "needs_background": "light"
     },
     "output_type": "display_data"
    },
    {
     "name": "stdout",
     "output_type": "stream",
     "text": [
      "\n",
      "Average val loss: 4.628780841827393\n",
      "Training with lr 0.0001...\n",
      "  500 / 15002: loss : 4.1228 -- perceptual loss : 0.2089 -- style loss : 3.913951\n",
      "Validation...\n",
      "    5 / 5: loss : 3.2088 -- perceptual loss : 0.2012 -- style loss : 3.007597\r"
     ]
    },
    {
     "data": {
      "image/png": "[encoded data removed]",
      "text/plain": [
       "<Figure size 432x288 with 10 Axes>"
      ]
     },
     "metadata": {
      "needs_background": "light"
     },
     "output_type": "display_data"
    },
    {
     "name": "stdout",
     "output_type": "stream",
     "text": [
      "\n",
      "Average val loss: 4.467813491821289\n",
      "Training with lr 0.0001...\n",
      "  600 / 15002: loss : 3.0386 -- perceptual loss : 0.2419 -- style loss : 2.7967\n",
      "Validation...\n",
      "    5 / 5: loss : 2.7407 -- perceptual loss : 0.2043 -- style loss : 2.5364\r"
     ]
    },
    {
     "data": {
      "image/png": "[encoded data removed]",
      "text/plain": [
       "<Figure size 432x288 with 10 Axes>"
      ]
     },
     "metadata": {
      "needs_background": "light"
     },
     "output_type": "display_data"
    },
    {
     "name": "stdout",
     "output_type": "stream",
     "text": [
      "\n",
      "Average val loss: 3.732944965362549\n",
      "Training with lr 0.0001...\n",
      "  700 / 15002: loss : 2.6883 -- perceptual loss : 0.1933 -- style loss : 2.495097\n",
      "Validation...\n",
      "    5 / 5: loss : 6.6791 -- perceptual loss : 0.1967 -- style loss : 6.48242\r"
     ]
    },
    {
     "data": {
      "image/png": "[encoded data removed]",
      "text/plain": [
       "<Figure size 432x288 with 10 Axes>"
      ]
     },
     "metadata": {
      "needs_background": "light"
     },
     "output_type": "display_data"
    },
    {
     "name": "stdout",
     "output_type": "stream",
     "text": [
      "\n",
      "Average val loss: 5.555402755737305\n",
      "Training with lr 0.0001...\n",
      "  800 / 15002: loss : 3.5486 -- perceptual loss : 0.2731 -- style loss : 3.2756\n",
      "Validation...\n",
      "    4 / 5: loss : 3.3289 -- perceptual loss : 0.2141 -- style loss : 3.1148\r"
     ]
    },
    {
     "ename": "KeyboardInterrupt",
     "evalue": "",
     "output_type": "error",
     "traceback": [
      "\u001b[1;31m---------------------------------------------------------------------------\u001b[0m",
      "\u001b[1;31mKeyboardInterrupt\u001b[0m                         Traceback (most recent call last)",
      "\u001b[1;32m<ipython-input-8-9064ed2594aa>\u001b[0m in \u001b[0;36m<module>\u001b[1;34m\u001b[0m\n\u001b[0;32m     50\u001b[0m \u001b[1;33m\u001b[0m\u001b[0m\n\u001b[0;32m     51\u001b[0m                 \u001b[0mstyle_encoding\u001b[0m \u001b[1;33m=\u001b[0m \u001b[0mstyle_encoder\u001b[0m\u001b[1;33m(\u001b[0m\u001b[0mstyle_image\u001b[0m\u001b[1;33m)\u001b[0m\u001b[1;33m\u001b[0m\u001b[1;33m\u001b[0m\u001b[0m\n\u001b[1;32m---> 52\u001b[1;33m                 \u001b[0mstylized\u001b[0m \u001b[1;33m=\u001b[0m \u001b[0munet\u001b[0m\u001b[1;33m(\u001b[0m\u001b[0mcontent_image\u001b[0m\u001b[1;33m,\u001b[0m \u001b[0mstyle_encoding\u001b[0m\u001b[1;33m)\u001b[0m\u001b[1;33m\u001b[0m\u001b[1;33m\u001b[0m\u001b[0m\n\u001b[0m\u001b[0;32m     53\u001b[0m \u001b[1;33m\u001b[0m\u001b[0m\n\u001b[0;32m     54\u001b[0m                 \u001b[0mtorch\u001b[0m\u001b[1;33m.\u001b[0m\u001b[0mset_printoptions\u001b[0m\u001b[1;33m(\u001b[0m\u001b[0mprofile\u001b[0m\u001b[1;33m=\u001b[0m\u001b[1;34m\"full\"\u001b[0m\u001b[1;33m)\u001b[0m\u001b[1;33m\u001b[0m\u001b[1;33m\u001b[0m\u001b[0m\n",
      "\u001b[1;32mF:\\Programme\\Miniconda3\\envs\\myenv\\lib\\site-packages\\torch\\nn\\modules\\module.py\u001b[0m in \u001b[0;36m__call__\u001b[1;34m(self, *input, **kwargs)\u001b[0m\n\u001b[0;32m    539\u001b[0m             \u001b[0mresult\u001b[0m \u001b[1;33m=\u001b[0m \u001b[0mself\u001b[0m\u001b[1;33m.\u001b[0m\u001b[0m_slow_forward\u001b[0m\u001b[1;33m(\u001b[0m\u001b[1;33m*\u001b[0m\u001b[0minput\u001b[0m\u001b[1;33m,\u001b[0m \u001b[1;33m**\u001b[0m\u001b[0mkwargs\u001b[0m\u001b[1;33m)\u001b[0m\u001b[1;33m\u001b[0m\u001b[1;33m\u001b[0m\u001b[0m\n\u001b[0;32m    540\u001b[0m         \u001b[1;32melse\u001b[0m\u001b[1;33m:\u001b[0m\u001b[1;33m\u001b[0m\u001b[1;33m\u001b[0m\u001b[0m\n\u001b[1;32m--> 541\u001b[1;33m             \u001b[0mresult\u001b[0m \u001b[1;33m=\u001b[0m \u001b[0mself\u001b[0m\u001b[1;33m.\u001b[0m\u001b[0mforward\u001b[0m\u001b[1;33m(\u001b[0m\u001b[1;33m*\u001b[0m\u001b[0minput\u001b[0m\u001b[1;33m,\u001b[0m \u001b[1;33m**\u001b[0m\u001b[0mkwargs\u001b[0m\u001b[1;33m)\u001b[0m\u001b[1;33m\u001b[0m\u001b[1;33m\u001b[0m\u001b[0m\n\u001b[0m\u001b[0;32m    542\u001b[0m         \u001b[1;32mfor\u001b[0m \u001b[0mhook\u001b[0m \u001b[1;32min\u001b[0m \u001b[0mself\u001b[0m\u001b[1;33m.\u001b[0m\u001b[0m_forward_hooks\u001b[0m\u001b[1;33m.\u001b[0m\u001b[0mvalues\u001b[0m\u001b[1;33m(\u001b[0m\u001b[1;33m)\u001b[0m\u001b[1;33m:\u001b[0m\u001b[1;33m\u001b[0m\u001b[1;33m\u001b[0m\u001b[0m\n\u001b[0;32m    543\u001b[0m             \u001b[0mhook_result\u001b[0m \u001b[1;33m=\u001b[0m \u001b[0mhook\u001b[0m\u001b[1;33m(\u001b[0m\u001b[0mself\u001b[0m\u001b[1;33m,\u001b[0m \u001b[0minput\u001b[0m\u001b[1;33m,\u001b[0m \u001b[0mresult\u001b[0m\u001b[1;33m)\u001b[0m\u001b[1;33m\u001b[0m\u001b[1;33m\u001b[0m\u001b[0m\n",
      "\u001b[1;32mF:\\Documents\\VariationalStyleTransfer\\model\\unet.py\u001b[0m in \u001b[0;36mforward\u001b[1;34m(self, x, s)\u001b[0m\n\u001b[0;32m    122\u001b[0m             \u001b[1;31m#print(f'Cat x of size {x.size()} to xs {xs[idx].size()}')\u001b[0m\u001b[1;33m\u001b[0m\u001b[1;33m\u001b[0m\u001b[1;33m\u001b[0m\u001b[0m\n\u001b[0;32m    123\u001b[0m             \u001b[0mx\u001b[0m \u001b[1;33m=\u001b[0m \u001b[0mtorch\u001b[0m\u001b[1;33m.\u001b[0m\u001b[0mcat\u001b[0m\u001b[1;33m(\u001b[0m\u001b[1;33m[\u001b[0m\u001b[0mx\u001b[0m\u001b[1;33m,\u001b[0m \u001b[0mxs\u001b[0m\u001b[1;33m[\u001b[0m\u001b[0midx\u001b[0m\u001b[1;33m]\u001b[0m\u001b[1;33m]\u001b[0m\u001b[1;33m,\u001b[0m \u001b[0mdim\u001b[0m\u001b[1;33m=\u001b[0m\u001b[1;36m1\u001b[0m\u001b[1;33m)\u001b[0m \u001b[1;31m# Concatenate along the channels dimension\u001b[0m\u001b[1;33m\u001b[0m\u001b[1;33m\u001b[0m\u001b[0m\n\u001b[1;32m--> 124\u001b[1;33m             \u001b[0mx\u001b[0m \u001b[1;33m=\u001b[0m \u001b[0mself\u001b[0m\u001b[1;33m.\u001b[0m\u001b[0mup_convs\u001b[0m\u001b[1;33m[\u001b[0m\u001b[0midx\u001b[0m\u001b[1;33m]\u001b[0m\u001b[1;33m(\u001b[0m\u001b[0mx\u001b[0m\u001b[1;33m,\u001b[0m \u001b[0mstyle_encoding\u001b[0m\u001b[1;33m=\u001b[0m\u001b[0ms\u001b[0m\u001b[1;33m)\u001b[0m\u001b[1;33m\u001b[0m\u001b[1;33m\u001b[0m\u001b[0m\n\u001b[0m\u001b[0;32m    125\u001b[0m \u001b[1;33m\u001b[0m\u001b[0m\n\u001b[0;32m    126\u001b[0m         \u001b[1;31m# Upsampling layers without U-Net connections\u001b[0m\u001b[1;33m\u001b[0m\u001b[1;33m\u001b[0m\u001b[1;33m\u001b[0m\u001b[0m\n",
      "\u001b[1;32mF:\\Programme\\Miniconda3\\envs\\myenv\\lib\\site-packages\\torch\\nn\\modules\\module.py\u001b[0m in \u001b[0;36m__call__\u001b[1;34m(self, *input, **kwargs)\u001b[0m\n\u001b[0;32m    539\u001b[0m             \u001b[0mresult\u001b[0m \u001b[1;33m=\u001b[0m \u001b[0mself\u001b[0m\u001b[1;33m.\u001b[0m\u001b[0m_slow_forward\u001b[0m\u001b[1;33m(\u001b[0m\u001b[1;33m*\u001b[0m\u001b[0minput\u001b[0m\u001b[1;33m,\u001b[0m \u001b[1;33m**\u001b[0m\u001b[0mkwargs\u001b[0m\u001b[1;33m)\u001b[0m\u001b[1;33m\u001b[0m\u001b[1;33m\u001b[0m\u001b[0m\n\u001b[0;32m    540\u001b[0m         \u001b[1;32melse\u001b[0m\u001b[1;33m:\u001b[0m\u001b[1;33m\u001b[0m\u001b[1;33m\u001b[0m\u001b[0m\n\u001b[1;32m--> 541\u001b[1;33m             \u001b[0mresult\u001b[0m \u001b[1;33m=\u001b[0m \u001b[0mself\u001b[0m\u001b[1;33m.\u001b[0m\u001b[0mforward\u001b[0m\u001b[1;33m(\u001b[0m\u001b[1;33m*\u001b[0m\u001b[0minput\u001b[0m\u001b[1;33m,\u001b[0m \u001b[1;33m**\u001b[0m\u001b[0mkwargs\u001b[0m\u001b[1;33m)\u001b[0m\u001b[1;33m\u001b[0m\u001b[1;33m\u001b[0m\u001b[0m\n\u001b[0m\u001b[0;32m    542\u001b[0m         \u001b[1;32mfor\u001b[0m \u001b[0mhook\u001b[0m \u001b[1;32min\u001b[0m \u001b[0mself\u001b[0m\u001b[1;33m.\u001b[0m\u001b[0m_forward_hooks\u001b[0m\u001b[1;33m.\u001b[0m\u001b[0mvalues\u001b[0m\u001b[1;33m(\u001b[0m\u001b[1;33m)\u001b[0m\u001b[1;33m:\u001b[0m\u001b[1;33m\u001b[0m\u001b[1;33m\u001b[0m\u001b[0m\n\u001b[0;32m    543\u001b[0m             \u001b[0mhook_result\u001b[0m \u001b[1;33m=\u001b[0m \u001b[0mhook\u001b[0m\u001b[1;33m(\u001b[0m\u001b[0mself\u001b[0m\u001b[1;33m,\u001b[0m \u001b[0minput\u001b[0m\u001b[1;33m,\u001b[0m \u001b[0mresult\u001b[0m\u001b[1;33m)\u001b[0m\u001b[1;33m\u001b[0m\u001b[1;33m\u001b[0m\u001b[0m\n",
      "\u001b[1;32mF:\\Documents\\VariationalStyleTransfer\\model\\blocks.py\u001b[0m in \u001b[0;36mforward\u001b[1;34m(self, x, style_encoding)\u001b[0m\n\u001b[0;32m    176\u001b[0m \u001b[1;33m\u001b[0m\u001b[0m\n\u001b[0;32m    177\u001b[0m         \u001b[1;32mif\u001b[0m \u001b[0mself\u001b[0m\u001b[1;33m.\u001b[0m\u001b[0mresidual\u001b[0m\u001b[1;33m:\u001b[0m \u001b[1;31m# Residual\u001b[0m\u001b[1;33m\u001b[0m\u001b[1;33m\u001b[0m\u001b[0m\n\u001b[1;32m--> 178\u001b[1;33m             \u001b[0mresidual\u001b[0m \u001b[1;33m=\u001b[0m \u001b[0mF\u001b[0m\u001b[1;33m.\u001b[0m\u001b[0minterpolate\u001b[0m\u001b[1;33m(\u001b[0m\u001b[0mx\u001b[0m\u001b[1;33m,\u001b[0m \u001b[0mmode\u001b[0m\u001b[1;33m=\u001b[0m\u001b[1;34m'nearest'\u001b[0m\u001b[1;33m,\u001b[0m \u001b[0mscale_factor\u001b[0m\u001b[1;33m=\u001b[0m\u001b[1;36m2\u001b[0m\u001b[1;33m)\u001b[0m\u001b[1;33m\u001b[0m\u001b[1;33m\u001b[0m\u001b[0m\n\u001b[0m\u001b[0;32m    179\u001b[0m             \u001b[0mresidual\u001b[0m \u001b[1;33m=\u001b[0m \u001b[0mself\u001b[0m\u001b[1;33m.\u001b[0m\u001b[0mconv_residual\u001b[0m\u001b[1;33m(\u001b[0m\u001b[0mself\u001b[0m\u001b[1;33m.\u001b[0m\u001b[0mpad\u001b[0m\u001b[1;33m(\u001b[0m\u001b[0mresidual\u001b[0m\u001b[1;33m)\u001b[0m\u001b[1;33m)\u001b[0m\u001b[1;33m\u001b[0m\u001b[1;33m\u001b[0m\u001b[0m\n\u001b[0;32m    180\u001b[0m             \u001b[0mout\u001b[0m \u001b[1;33m=\u001b[0m \u001b[0mout\u001b[0m \u001b[1;33m+\u001b[0m \u001b[0mresidual\u001b[0m\u001b[1;33m\u001b[0m\u001b[1;33m\u001b[0m\u001b[0m\n",
      "\u001b[1;32mF:\\Programme\\Miniconda3\\envs\\myenv\\lib\\site-packages\\torch\\nn\\functional.py\u001b[0m in \u001b[0;36minterpolate\u001b[1;34m(input, size, scale_factor, mode, align_corners)\u001b[0m\n\u001b[0;32m   2498\u001b[0m         \u001b[1;32mreturn\u001b[0m \u001b[0mtorch\u001b[0m\u001b[1;33m.\u001b[0m\u001b[0m_C\u001b[0m\u001b[1;33m.\u001b[0m\u001b[0m_nn\u001b[0m\u001b[1;33m.\u001b[0m\u001b[0mupsample_nearest1d\u001b[0m\u001b[1;33m(\u001b[0m\u001b[0minput\u001b[0m\u001b[1;33m,\u001b[0m \u001b[0m_output_size\u001b[0m\u001b[1;33m(\u001b[0m\u001b[1;36m1\u001b[0m\u001b[1;33m)\u001b[0m\u001b[1;33m)\u001b[0m\u001b[1;33m\u001b[0m\u001b[1;33m\u001b[0m\u001b[0m\n\u001b[0;32m   2499\u001b[0m     \u001b[1;32melif\u001b[0m \u001b[0minput\u001b[0m\u001b[1;33m.\u001b[0m\u001b[0mdim\u001b[0m\u001b[1;33m(\u001b[0m\u001b[1;33m)\u001b[0m \u001b[1;33m==\u001b[0m \u001b[1;36m4\u001b[0m \u001b[1;32mand\u001b[0m \u001b[0mmode\u001b[0m \u001b[1;33m==\u001b[0m \u001b[1;34m'nearest'\u001b[0m\u001b[1;33m:\u001b[0m\u001b[1;33m\u001b[0m\u001b[1;33m\u001b[0m\u001b[0m\n\u001b[1;32m-> 2500\u001b[1;33m         \u001b[1;32mreturn\u001b[0m \u001b[0mtorch\u001b[0m\u001b[1;33m.\u001b[0m\u001b[0m_C\u001b[0m\u001b[1;33m.\u001b[0m\u001b[0m_nn\u001b[0m\u001b[1;33m.\u001b[0m\u001b[0mupsample_nearest2d\u001b[0m\u001b[1;33m(\u001b[0m\u001b[0minput\u001b[0m\u001b[1;33m,\u001b[0m \u001b[0m_output_size\u001b[0m\u001b[1;33m(\u001b[0m\u001b[1;36m2\u001b[0m\u001b[1;33m)\u001b[0m\u001b[1;33m)\u001b[0m\u001b[1;33m\u001b[0m\u001b[1;33m\u001b[0m\u001b[0m\n\u001b[0m\u001b[0;32m   2501\u001b[0m     \u001b[1;32melif\u001b[0m \u001b[0minput\u001b[0m\u001b[1;33m.\u001b[0m\u001b[0mdim\u001b[0m\u001b[1;33m(\u001b[0m\u001b[1;33m)\u001b[0m \u001b[1;33m==\u001b[0m \u001b[1;36m5\u001b[0m \u001b[1;32mand\u001b[0m \u001b[0mmode\u001b[0m \u001b[1;33m==\u001b[0m \u001b[1;34m'nearest'\u001b[0m\u001b[1;33m:\u001b[0m\u001b[1;33m\u001b[0m\u001b[1;33m\u001b[0m\u001b[0m\n\u001b[0;32m   2502\u001b[0m         \u001b[1;32mreturn\u001b[0m \u001b[0mtorch\u001b[0m\u001b[1;33m.\u001b[0m\u001b[0m_C\u001b[0m\u001b[1;33m.\u001b[0m\u001b[0m_nn\u001b[0m\u001b[1;33m.\u001b[0m\u001b[0mupsample_nearest3d\u001b[0m\u001b[1;33m(\u001b[0m\u001b[0minput\u001b[0m\u001b[1;33m,\u001b[0m \u001b[0m_output_size\u001b[0m\u001b[1;33m(\u001b[0m\u001b[1;36m3\u001b[0m\u001b[1;33m)\u001b[0m\u001b[1;33m)\u001b[0m\u001b[1;33m\u001b[0m\u001b[1;33m\u001b[0m\u001b[0m\n",
      "\u001b[1;31mKeyboardInterrupt\u001b[0m: "
     ]
    },
    {
     "data": {
      "image/png": "[encoded data removed]",
      "text/plain": [
       "<Figure size 432x288 with 8 Axes>"
      ]
     },
     "metadata": {
      "needs_background": "light"
     },
     "output_type": "display_data"
    }
   ],
   "source": [
    "iteration = 0\n",
    "val_step = 0\n",
    "for (content_image, content_path), (style_image, style_path) in data_loader_train:\n",
    "    if iteration >= ITERATIONS: \n",
    "        break\n",
    "    if torch.cuda.is_available():\n",
    "        content_image = content_image.to('cuda')\n",
    "        style_image = style_image.to('cuda')\n",
    "    \n",
    "    unet.train(), style_encoder.train()\n",
    "    optimizer.zero_grad()\n",
    "    \n",
    "    style_encoding = style_encoder(style_image)\n",
    "    stylized = unet(content_image, style_encoding)\n",
    "    \n",
    "    features_content = loss_net(content_image)\n",
    "    features_style = loss_net(style_image)\n",
    "    features_stylized = loss_net(stylized)\n",
    "    \n",
    "    perceptual_loss = loss.perceptual_loss(features_content, features_stylized, CONTENT_LOSS_WEIGHTS, loss=LOSS_TYPE)\n",
    "    style_loss = loss.style_loss(features_style, features_stylized, STYLE_LOSS_WEIGHTS, loss=LOSS_TYPE)\n",
    "    total_loss = perceptual_loss + style_loss\n",
    "    total_loss.backward()\n",
    "    optimizer.step()\n",
    "    \n",
    "    tb_writer.add_scalar('train loss', total_loss.item(), iteration)\n",
    "    tb_writer.add_scalar('train perceptual loss', perceptual_loss.item(), iteration)\n",
    "    tb_writer.add_scalar('train style loss', style_loss.item(), iteration)\n",
    "    print(f'\\r{iteration:5d} / {ITERATIONS}: loss : {total_loss.item():.4f} -- perceptual loss : {perceptual_loss.item():.4f} -- style loss : {style_loss.item():.4f}', end='\\r')\n",
    "    \n",
    "    if iteration % 100 == 0:\n",
    "        #tb_writer.add_images('train images', torch.from_numpy(np.concatenate([\n",
    "        #    data.vgg_normalization_undo(img.detach().cpu().numpy()) for img in [content_image, style_image, stylized]\n",
    "        #])), iteration)\n",
    "        # Validate\n",
    "        print('\\nValidation...')\n",
    "        total_val_loss = 0.0\n",
    "        with torch.no_grad():\n",
    "            val_iteration = 0\n",
    "            unet.eval(), style_encoder.eval()\n",
    "            fig = plt.figure()\n",
    "            for (content_image, content_path), (style_image, style_path) in data_loader_val:\n",
    "                \n",
    "                if val_iteration >= VAL_ITERATIONS:\n",
    "                    break\n",
    "                    \n",
    "                if torch.cuda.is_available():\n",
    "                    content_image = content_image.to('cuda')\n",
    "                    style_image = style_image.to('cuda')\n",
    "                \n",
    "                style_encoding = style_encoder(style_image)\n",
    "                stylized = unet(content_image, style_encoding)\n",
    "                \n",
    "                torch.set_printoptions(profile=\"full\")\n",
    "                #print(content_encoding)\n",
    "                torch.set_printoptions(profile=\"default\")\n",
    "    \n",
    "                features_content = loss_net(content_image)\n",
    "                features_style = loss_net(style_image)\n",
    "                features_stylized = loss_net(stylized)\n",
    "\n",
    "                perceptual_loss = loss.perceptual_loss(features_content, features_stylized, CONTENT_LOSS_WEIGHTS, loss=LOSS_TYPE)\n",
    "                style_loss = loss.style_loss(features_style, features_stylized, STYLE_LOSS_WEIGHTS, loss=LOSS_TYPE)\n",
    "                total_loss = perceptual_loss + style_loss\n",
    "                total_val_loss += total_loss\n",
    "                fig.add_subplot(2, VAL_ITERATIONS, val_iteration + 1)\n",
    "                plt.hist(style_encoding.detach().cpu().numpy().reshape(-1), density=True)\n",
    "                fig.add_subplot(2, VAL_ITERATIONS, VAL_ITERATIONS + val_iteration + 1)\n",
    "                plt.hist(style_encoding.detach().cpu().numpy().std(0), density=True)\n",
    "                \n",
    "                tb_writer.add_scalar('validation loss', total_loss.item(), val_step)\n",
    "                tb_writer.add_scalar('validation perceptual loss', perceptual_loss.item(), val_step)\n",
    "                tb_writer.add_scalar('validation style loss', style_loss.item(), val_step)\n",
    "                tb_writer.add_images('validation images', torch.from_numpy(np.concatenate([\n",
    "                    img.detach().cpu().numpy() for img in [content_image, style_image, stylized]\n",
    "                ])), val_step)\n",
    "                val_iteration += 1\n",
    "                val_step += 1\n",
    "                print(f'\\r{val_iteration:5d} / {VAL_ITERATIONS}: loss : {total_loss.item():.4f} -- perceptual loss : {perceptual_loss.item():.4f} -- style loss : {style_loss.item():.4f}', end='\\r')\n",
    "            \n",
    "            plt.show()\n",
    "            total_val_loss /= VAL_ITERATIONS\n",
    "            print(f'\\nAverage val loss: {total_val_loss}')\n",
    "            lr_scheduler.step(total_val_loss)\n",
    "            print(f'Training with lr {optimizer.param_groups[0][\"lr\"]}...')\n",
    "            \n",
    "            \n",
    "    iteration += 1\n",
    "    \n",
    "    "
   ]
  },
  {
   "cell_type": "markdown",
   "metadata": {},
   "source": [
    "# Old Training Loop"
   ]
  },
  {
   "cell_type": "code",
   "execution_count": null,
   "metadata": {
    "scrolled": true
   },
   "outputs": [],
   "source": [
    "\n",
    "\n",
    "optimizer = torch.optim.Adam(trainable_parameters, lr=1e-6)\n",
    "\n",
    "\n",
    "iteration = 0\n",
    "running_perceptual_loss, running_style_loss, running_count = 0.0, 0.0, 0\n",
    "\n",
    "content_loss_history_train = []\n",
    "style_loss_history_train = []\n",
    "content_loss_history_val = []\n",
    "style_loss_history_val = []\n",
    "\n",
    "for (content_image, content_path), (style_image, style_path) in data_loader_train:\n",
    "    if iteration >= ITERATIONS: break\n",
    "    iteration += 1\n",
    "    \n",
    "    content_encoder.train()\n",
    "    style_encoder.train()\n",
    "    decoder.train()\n",
    "\n",
    "    optimizer.zero_grad()\n",
    "    if torch.cuda.is_available():\n",
    "        content_image = content_image.to('cuda')\n",
    "        style_image = style_image.to('cuda')\n",
    "\n",
    "    #content_representation = content_encoder(content_image)\n",
    "    #style_representation = style_encoder(style_image)\n",
    "\n",
    "    #transformed_content = function.adain(content_representation, style_representation)\n",
    "    #transformed = decoder(transformed_content)\n",
    "    #transformed = decoder(content_representation, style_representation)\n",
    "    \n",
    "    transformed, style_representation = forward(content_image, style_image, content_encoder, style_encoder, decoder)\n",
    "\n",
    "    features_content = loss_net(content_image)\n",
    "    features_style = loss_net(style_image)\n",
    "    features_transformed = loss_net(transformed)\n",
    "\n",
    "    perceptual_loss = loss.perceptual_loss(features_content, features_transformed, CONTENT_LOSS_WEIGHTS)\n",
    "    style_loss = loss.style_loss(features_style, features_transformed, STYLE_LOSS_WEIGHTS)\n",
    "    \n",
    "    lambda_content = 1.0\n",
    "    lambda_style = 1.0\n",
    "\n",
    "    total_loss = lambda_content * perceptual_loss + lambda_style * style_loss\n",
    "\n",
    "    total_loss.backward()\n",
    "    optimizer.step()\n",
    "\n",
    "    running_perceptual_loss += perceptual_loss.item()\n",
    "    running_style_loss += style_loss.item()\n",
    "\n",
    "    running_count += 1\n",
    "\n",
    "    print(f'\\r{iteration:06d} : avg perceptual_loss : {running_perceptual_loss / running_count:.4f}\\tavg style loss : {running_style_loss / running_count:.4f}', end='\\r')\n",
    "    content_loss_history_train.append(perceptual_loss.item())\n",
    "    style_loss_history_train.append(style_loss.item())\n",
    "    \n",
    "    if iteration % 5000 == 1:\n",
    "        torch.save(content_encoder.state_dict(), f'output/content_encoder_{iteration}')\n",
    "        torch.save(style_encoder.state_dict(), f'output/style_encoder_{iteration}')\n",
    "        torch.save(decoder.state_dict(), f'output/decoder_{iteration}')\n",
    "\n",
    "    if iteration % 500 == 1:\n",
    "\n",
    "        running_perceptual_loss, running_style_loss, running_count = 0.0, 0.0, 0 # After each validation, reset running training losses\n",
    "        print(f'\\nValidating...')\n",
    "\n",
    "        content_encoder.eval()\n",
    "        style_encoder.eval()\n",
    "        decoder.eval()\n",
    "        perceptual_loss = 0.0\n",
    "        style_loss = 0.0\n",
    "        val_iteration = 0\n",
    "\n",
    "        with torch.no_grad():\n",
    "\n",
    "            torch.save(content_image.cpu(), f'output/{iteration}_0_content.pt')\n",
    "            torch.save(style_image.cpu(), f'output/{iteration}_0_style.pt')\n",
    "            #torch.save(decoder(style_representation).cpu(), f'output/{iteration}_0_style_reconstructed.pt')\n",
    "            #torch.save(decoder(content_representation).cpu(), f'output/{iteration}_0_reconstructed.pt')\n",
    "            torch.save(transformed.cpu(), f'output/{iteration}_0_transformed.pt')\n",
    "\n",
    "\n",
    "            for (content_image, content_path), (style_image, style_path) in data_loader_val:\n",
    "                val_iteration += 1\n",
    "                if val_iteration > VAL_ITERATIONS: break\n",
    "\n",
    "                if torch.cuda.is_available():\n",
    "                    content_image = content_image.to('cuda')\n",
    "                    style_image = style_image.to('cuda')\n",
    "\n",
    "                #content_representation = content_encoder(content_image)\n",
    "                #style_representation = style_encoder(style_image)\n",
    "\n",
    "                #transformed_content = function.adain(content_representation, style_representation)\n",
    "                #reconstruction = decoder(transformed_content)\n",
    "                #reconstruction = decoder(content_representation, style_representation)\n",
    "                \n",
    "                reconstruction, style_representation = forward(content_image, style_image, content_encoder, style_encoder, decoder)\n",
    "\n",
    "                features_content = loss_net(content_image)\n",
    "                features_style = loss_net(style_image)\n",
    "                features_reconstruction = loss_net(reconstruction)\n",
    "                \n",
    "                print(\"------------------------------------------------------------------\")\n",
    "                print(\"Features content:\")\n",
    "                print_content_feature_contrib(features_content, features_reconstruction)\n",
    "                print(\"Features style:\")\n",
    "                print_style_feature_contrib(features_style, features_reconstruction)\n",
    "                print(\"------------------------------------------------------------------\")\n",
    "                \n",
    "                perceptual_loss += loss.perceptual_loss(features_content, features_reconstruction, CONTENT_LOSS_WEIGHTS)\n",
    "                style_loss += loss.style_loss(features_style, features_reconstruction, STYLE_LOSS_WEIGHTS)\n",
    "                    \n",
    "                torch.save(content_image.cpu(), f'output/{iteration}_{val_iteration}_content.pt')\n",
    "                torch.save(style_image.cpu(), f'output/{iteration}_{val_iteration}_style.pt')\n",
    "                torch.save(reconstruction.cpu(), f'output/{iteration}_{val_iteration}_reconstruction.pt')\n",
    "                #torch.save(decoder(style_representation).cpu(), f'output/{iteration}_{val_iteration}_style_reconstruction.pt')\n",
    "\n",
    "                print(f'\\rValidation {val_iteration:02d} : Perceptual loss {perceptual_loss / val_iteration:.4f}\\tStyle loss {style_loss / val_iteration:.4f}', end='\\r')\n",
    "            print('\\nValidation done.')\n",
    "            val_iteration -= 1\n",
    "            content_loss_history_val.append((iteration, perceptual_loss / val_iteration))\n",
    "            style_loss_history_val.append((iteration, style_loss / val_iteration))\n",
    "\n",
    "            torch.save(content_loss_history_train, 'output/content_loss_history_train.pt')\n",
    "            torch.save(style_loss_history_train, 'output/style_loss_history_train.pt')\n",
    "            torch.save(content_loss_history_val, 'output/content_loss_history_val.pt')\n",
    "            torch.save(style_loss_history_val, 'output/style_loss_history_val.pt')\n",
    "            "
   ]
  },
  {
   "cell_type": "code",
   "execution_count": null,
   "metadata": {},
   "outputs": [],
   "source": [
    "def forward(content, style, content_encoder, style_encoder, decoder):\n",
    "    \"\"\" Forwards a batch through the pipeline.\n",
    "    \n",
    "    Parameters:\n",
    "    -----------\n",
    "    content : torch.Tensor, shape [B, C, H, W]\n",
    "        The content image.\n",
    "    style : torch.Tensor, shape [B, C, H', W']\n",
    "        The style image, usually H' = H and W' = W.\n",
    "    content_encoder : torch.nn.modules.Module\n",
    "        Encoder for content images.\n",
    "    style_encoder : torch.nn.modules.Module\n",
    "        Encoder for style images.\n",
    "    decoder : torch.nn.modules.Module\n",
    "        Decoder that uses AdaIn to decode the content and apply the style.\n",
    "\n",
    "    Returns:\n",
    "    --------\n",
    "    reco : torch.Tensor, shape [B, C, H, W]\n",
    "        A reconstruction of the content after application of the style.\n",
    "    content_representation : torch.Tensor, shape [B, D]\n",
    "        Content representation.\n",
    "    style_representation : torch.Tensor, shape [B, D']\n",
    "        The latent style representation.\n",
    "    \"\"\"\n",
    "    content_representation = content_encoder(content)\n",
    "    style_representation = style_encoder(style)\n",
    "    #transformed_content = function.adain(content_representation, style_representation)\n",
    "    #print(content_representation.shape)\n",
    "    #print(style_representation.shape)\n",
    "    reco = decoder(content_representation, style_representation)\n",
    "    #reco = decoder(content_representation)\n",
    "    return reco, content_representation, style_representation\n",
    "\n",
    "def print_content_feature_contrib(feature_activations_x, feature_activations_y):\n",
    "    for key in feature_activations_x:\n",
    "        feature_loss = torch.nn.functional.mse_loss(feature_activations_x[key], feature_activations_y[key])\n",
    "        weight = 0.0\n",
    "        if key in CONTENT_LOSS_WEIGHTS:\n",
    "            weight = CONTENT_LOSS_WEIGHTS[key]\n",
    "        weighted_loss = weight * feature_loss\n",
    "        print(\"Content layer {} loss: {} weight: {} weighted loss: {}\".format(key, feature_loss, weight, weighted_loss))\n",
    "\n",
    "def print_style_feature_contrib(features_style, features_transformed):\n",
    "    for key, weight in STYLE_LOSS_WEIGHTS.items():\n",
    "        Gx = function.gram_matrix(features_style[key])\n",
    "        Gy = function.gram_matrix(features_transformed[key])\n",
    "        value = torch.nn.functional.mse_loss(Gx, Gy)\n",
    "        weighted_value = weight * value\n",
    "        print(f'Style loss {key} with weight {weight}: {value} weighted loss: {weighted_value}')"
   ]
  },
  {
   "cell_type": "markdown",
   "metadata": {},
   "source": [
    "# Evaluate"
   ]
  },
  {
   "cell_type": "code",
   "execution_count": null,
   "metadata": {},
   "outputs": [],
   "source": [
    "CONTENT_LOSS_WEIGHTS = {\n",
    "    'relu_4_2' : 5e-2,\n",
    "}\n",
    "\n",
    "STYLE_LOSS_WEIGHTS = {\n",
    "    'relu_1_1' : 1e3,\n",
    "    'relu_2_1' : 1e3,\n",
    "    'relu_3_1' : 1e3,\n",
    "    'relu_4_1' : 1e3,\n",
    "    'relu_5_1' : 1e3,\n",
    "}\n",
    "RESOLUTION = 256\n",
    "ITERATION = 5001\n",
    "EVAL_ITERATIONS = 1\n",
    "BATCH_SIZE = 1\n",
    "\n",
    "data_style = data.load_debug_dataset('../dataset/debug/style', resolution=RESOLUTION)\n",
    "data_loader_style_eval = DataLoader(data_style, batch_size=BATCH_SIZE, shuffle=True, drop_last=False)\n",
    "\n",
    "data_content = data.load_debug_dataset('../dataset/debug/content', resolution=RESOLUTION)\n",
    "data_loader_content_eval = DataLoader(data_content, batch_size=BATCH_SIZE, shuffle=True, drop_last=False)\n",
    "\n",
    "data_loader_eval = data.DatasetPairIterator(data_loader_content_eval, data_loader_style_eval)\n",
    "\n",
    "content_encoder = model.Encoder((3, RESOLUTION, RESOLUTION), pretrained=True)\n",
    "#style_encoder = model.Encoder((3, RESOLUTION, RESOLUTION), pretrained=True, flattened_output_dim=STYLE_DIM)\n",
    "style_encoder = model.Encoder((3, RESOLUTION, RESOLUTION), pretrained=True)\n",
    "#decoder = model.Decoder(STYLE_DIM)\n",
    "decoder = model.Decoder()\n",
    "\n",
    "content_encoder.load_state_dict(torch.load(f'output_train_places365_starry_night/content_encoder_{ITERATION}'))\n",
    "style_encoder.load_state_dict(torch.load(f'output_train_places365_starry_night/style_encoder_{ITERATION}'))\n",
    "decoder.load_state_dict(torch.load(f'output_train_places365_starry_night/decoder_{ITERATION}'))\n",
    "\n",
    "loss_net = loss.LossNet()\n",
    "loss_net.eval()\n",
    "\n",
    "# Networks to CUDA device\n",
    "if torch.cuda.is_available(): \n",
    "    content_encoder = content_encoder.cuda()\n",
    "    style_encoder = style_encoder.cuda()\n",
    "    decoder = decoder.cuda()\n",
    "    loss_net = loss_net.cuda()\n",
    "\n",
    "content_encoder.eval()\n",
    "style_encoder.eval()\n",
    "decoder.eval()\n",
    "\n",
    "with torch.no_grad():\n",
    "    eval_iteration = 0\n",
    "\n",
    "    for (content_image, content_path), (style_image, style_path) in data_loader_eval:\n",
    "        if eval_iteration >= EVAL_ITERATIONS:\n",
    "            break\n",
    "\n",
    "        perceptual_loss = 0.0\n",
    "        style_loss = 0.0\n",
    "        eval_iteration += 1\n",
    "\n",
    "        if torch.cuda.is_available():\n",
    "            content_image = content_image.to('cuda')\n",
    "            style_image = style_image.to('cuda')\n",
    "\n",
    "        #content_representation = content_encoder(content_image)\n",
    "        #style_representation = style_encoder(style_image)\n",
    "\n",
    "        #transformed_content = function.adain(content_representation, style_representation)\n",
    "        #reconstruction = decoder(transformed_content)\n",
    "        #reconstruction = decoder(content_representation, style_representation)\n",
    "\n",
    "        reconstruction, style_representation = forward(content_image, style_image, content_encoder, style_encoder, decoder)\n",
    "\n",
    "        features_content = loss_net(content_image)\n",
    "        features_style = loss_net(style_image)\n",
    "        features_reconstruction = loss_net(reconstruction)\n",
    "\n",
    "        perceptual_loss += loss.perceptual_loss(features_content, features_reconstruction, CONTENT_LOSS_WEIGHTS)\n",
    "        style_loss += loss.style_loss(features_style, features_reconstruction, STYLE_LOSS_WEIGHTS)\n",
    "\n",
    "        torch.save(content_image.cpu(), f'output/eval_{eval_iteration}_content.pt')\n",
    "        torch.save(style_image.cpu(), f'output/eval_{eval_iteration}_style.pt')\n",
    "        torch.save(reconstruction.cpu(), f'output/eval_{eval_iteration}_reconstruction.pt')\n",
    "\n",
    "        print(f'Evaluation {eval_iteration:02d} : Perceptual loss {perceptual_loss:.4f}\\tStyle loss {style_loss:.4f}')\n"
   ]
  },
  {
   "cell_type": "markdown",
   "metadata": {},
   "source": [
    "# Other"
   ]
  },
  {
   "cell_type": "code",
   "execution_count": null,
   "metadata": {},
   "outputs": [],
   "source": [
    "plt.plot(content_loss_history_train[10:], \"r\")\n",
    "plt.plot(style_loss_history_train[10:], \"b\")\n",
    "plt.plot(*zip(*content_loss_history_val), \"r--\")\n",
    "plt.plot(*zip(*style_loss_history_val), \"b--\")"
   ]
  },
  {
   "cell_type": "code",
   "execution_count": null,
   "metadata": {},
   "outputs": [],
   "source": [
    "image_batch = torch.load(\"./output/91_9_reconstruction.pt\")\n",
    "image_batch = data.vgg_normalization_undo(image_batch.numpy())\n",
    "#plt.imshow(transforms.ToPILImage()(image))\n",
    "image_batch = np.transpose(image_batch, (0, 2, 3, 1))\n",
    "plt.imshow(image_batch[0])"
   ]
  },
  {
   "cell_type": "code",
   "execution_count": null,
   "metadata": {},
   "outputs": [],
   "source": [
    "def show_images(epoch, iteration):\n",
    "    content_batch = torch.load(\"./output/{}_{}_content.pt\".format(epoch, iteration))\n",
    "    style_batch = torch.load(\"./output/{}_{}_style.pt\".format(epoch, iteration))\n",
    "    reconstruction_batch = torch.load(\"./output/{}_{}_reconstruction.pt\".format(epoch, iteration))\n",
    "    \n",
    "    content_batch = data.vgg_normalization_undo(content_batch.numpy())\n",
    "    style_batch = data.vgg_normalization_undo(style_batch.numpy())\n",
    "    reconstruction_batch = data.vgg_normalization_undo(reconstruction_batch.numpy())\n",
    "    \n",
    "    content_batch = np.transpose(content_batch, (0, 2, 3, 1))\n",
    "    style_batch = np.transpose(style_batch, (0, 2, 3, 1))\n",
    "    reconstruction_batch = np.transpose(reconstruction_batch, (0, 2, 3, 1))\n",
    "    \n",
    "    fig = plt.figure(figsize=(12, 4))\n",
    "    \n",
    "    fig.add_subplot(1, 3, 1)\n",
    "    plt.imshow(content_batch[0])\n",
    "    \n",
    "    fig.add_subplot(1, 3, 2)\n",
    "    plt.imshow(style_batch[0])\n",
    "    \n",
    "    fig.add_subplot(1, 3, 3)\n",
    "    plt.imshow(reconstruction_batch[0])"
   ]
  },
  {
   "cell_type": "code",
   "execution_count": null,
   "metadata": {},
   "outputs": [],
   "source": [
    "show_images(1, 1)"
   ]
  },
  {
   "cell_type": "code",
   "execution_count": null,
   "metadata": {},
   "outputs": [],
   "source": [
    "print(STYLE_DIM)"
   ]
  },
  {
   "cell_type": "code",
   "execution_count": null,
   "metadata": {},
   "outputs": [],
   "source": [
    "np.arange(0, 1.05, 0.05)"
   ]
  },
  {
   "cell_type": "code",
   "execution_count": null,
   "metadata": {},
   "outputs": [],
   "source": [
    "data.resize_images_offline(\"../dataset/style\", \"../dataset/style_resized\")"
   ]
  },
  {
   "cell_type": "code",
   "execution_count": null,
   "metadata": {},
   "outputs": [],
   "source": [
    "data.resize_images_offline(\"../dataset/debug/style\", \"../dataset/debug/style_resized\")"
   ]
  },
  {
   "cell_type": "code",
   "execution_count": 39,
   "metadata": {},
   "outputs": [],
   "source": []
  },
  {
   "cell_type": "code",
   "execution_count": 41,
   "metadata": {},
   "outputs": [
    {
     "name": "stdout",
     "output_type": "stream",
     "text": [
      "74814\n"
     ]
    }
   ],
   "source": []
  },
  {
   "cell_type": "code",
   "execution_count": 32,
   "metadata": {},
   "outputs": [
    {
     "name": "stdout",
     "output_type": "stream",
     "text": [
      "['../dataset/style\\\\wikiart\\\\Abstract_Expressionism\\\\aaron-siskind_acolman-1-1955.jpg', '../dataset/style\\\\wikiart\\\\Abstract_Expressionism\\\\aaron-siskind_chicago-1951.jpg', '../dataset/style\\\\wikiart\\\\Abstract_Expressionism\\\\aaron-siskind_chicago-6-1961.jpg', '../dataset/style\\\\wikiart\\\\Abstract_Expressionism\\\\aaron-siskind_feet-102-1957.jpg', '../dataset/style\\\\wikiart\\\\Abstract_Expressionism\\\\aaron-siskind_gloucester-16a-1944.jpg', '../dataset/style\\\\wikiart\\\\Abstract_Expressionism\\\\aaron-siskind_jerome-arizona-1949.jpg', '../dataset/style\\\\wikiart\\\\Abstract_Expressionism\\\\aaron-siskind_kentucky-4-1951.jpg', '../dataset/style\\\\wikiart\\\\Abstract_Expressionism\\\\aaron-siskind_new-york-1951.jpg', '../dataset/style\\\\wikiart\\\\Abstract_Expressionism\\\\aaron-siskind_new-york-2-1948.jpg', '../dataset/style\\\\wikiart\\\\Abstract_Expressionism\\\\aaron-siskind_new-york-24-1988.jpg']\n",
      "../dataset/style\\wikiart\\Color_Field_Painting\\barnett-newman_canto-viii-1964.jpg\n"
     ]
    }
   ],
   "source": [
    "paths = data.list_images(\"../dataset/style\")\n",
    "print(paths[0:10])\n",
    "\n",
    "for p in paths:\n",
    "    if \"barnett-newman_canto-viii-1964.jpg\" in p:\n",
    "        print(p)"
   ]
  },
  {
   "cell_type": "code",
   "execution_count": null,
   "metadata": {},
   "outputs": [],
   "source": []
  }
 ],
 "metadata": {
  "kernelspec": {
   "display_name": "Python 3",
   "language": "python",
   "name": "python3"
  },
  "language_info": {
   "codemirror_mode": {
    "name": "ipython",
    "version": 3
   },
   "file_extension": ".py",
   "mimetype": "text/x-python",
   "name": "python",
   "nbconvert_exporter": "python",
   "pygments_lexer": "ipython3",
   "version": "3.7.5"
  }
 },
 "nbformat": 4,
 "nbformat_minor": 2
}
